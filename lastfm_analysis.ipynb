{
 "cells": [
  {
   "cell_type": "markdown",
   "metadata": {},
   "source": [
    "# Analysis of last.fm reports\n",
    "\n",
    "Now we'll analyze the stats for my user, `fergomes`.\n",
    "\n",
    "The first thing you need to do to perform this study is collect all the tracks for your user (or whatever user you want to analyze). This can be done running the python script `lastfm_get_user_historical_tracks.py` on this repo (go to the repo main page and go through the README).\n",
    "\n",
    "For those who are not familiar, Last.fm is a service that collects and stores what you listen to on many devices. I use the service since 2006, and I had several connectors in the past, including Winamp!\n",
    "\n",
    "On last.fm dialect, a `scrobble` is a unique track that was listened to on a period of time, and transferred to the platform.\n",
    "\n",
    "To know more about the platform, check https://www.last.fm/.\n",
    "If you feel interested on using the service but doesn't know how to scrobble your tracks, check here: https://www.last.fm/about/trackmymusic"
   ]
  },
  {
   "cell_type": "code",
   "execution_count": 1,
   "metadata": {},
   "outputs": [],
   "source": [
    "import pandas as pd\n",
    "import matplotlib.pyplot as plt\n",
    "from collections import Counter\n",
    "import seaborn as sns\n",
    "import datetime"
   ]
  },
  {
   "cell_type": "code",
   "execution_count": 2,
   "metadata": {},
   "outputs": [
    {
     "name": "stdout",
     "output_type": "stream",
     "text": [
      "<class 'pandas.core.frame.DataFrame'>\n",
      "RangeIndex: 74422 entries, 0 to 74421\n",
      "Data columns (total 7 columns):\n",
      "Unnamed: 0    74422 non-null int64\n",
      "Timestamp     74422 non-null int64\n",
      "Artist        74422 non-null object\n",
      "Track         74422 non-null object\n",
      "Album         72066 non-null object\n",
      "Loved         74422 non-null int64\n",
      "Tags          74422 non-null object\n",
      "dtypes: int64(3), object(4)\n",
      "memory usage: 4.0+ MB\n"
     ]
    }
   ],
   "source": [
    "user = 'fergomes'\n",
    "\n",
    "if user == 'fergomes':\n",
    "    directory = 'export_fergomes_20191109'\n",
    "    file = 'historical_tracks_fergomes_201911091749.csv'\n",
    "\n",
    "scrobbles_df = pd.read_csv(directory + '/' + file, sep=',')\n",
    "scrobbles_df.info()"
   ]
  },
  {
   "cell_type": "code",
   "execution_count": 3,
   "metadata": {},
   "outputs": [],
   "source": [
    "import datetime\n",
    "from pytz import timezone\n",
    "\n",
    "br = timezone('America/Sao_Paulo')\n",
    "sp = timezone('Europe/Madrid')\n",
    "\n",
    "date_moved = int(datetime.datetime(2017,2,6,0,0).timestamp())\n",
    "\n",
    "list_date_formatted = []\n",
    "\n",
    "for i in range(len(scrobbles_df)):\n",
    "    date_epoch = int(scrobbles_df.iloc[i]['Timestamp'])\n",
    "    if user == 'fergomes' and int(date_epoch) > date_moved:\n",
    "        date_f = datetime.datetime.fromtimestamp(int(date_epoch), tz=sp)\n",
    "    else:\n",
    "        date_f = datetime.datetime.fromtimestamp(int(date_epoch), tz=br)\n",
    "    list_date_formatted.append(date_f)\n",
    "\n",
    "scrobbles_df['Date formatted'] = list_date_formatted\n",
    "scrobbles_df['Weekday'] = [datetime.date(idx.year, idx.month, idx.day).strftime('%A') for idx in scrobbles_df['Date formatted']]\n",
    "scrobbles_df['Weekday_number'] = [datetime.date(idx.year, idx.month, idx.day).isoweekday() for idx in scrobbles_df['Date formatted']]\n",
    "scrobbles_df['Hour'] = [idx.hour for idx in scrobbles_df['Date formatted']]\n",
    "scrobbles_df['Month'] = [idx.month for idx in scrobbles_df['Date formatted']]\n",
    "scrobbles_df['Year'] = [idx.year for idx in scrobbles_df['Date formatted']]"
   ]
  },
  {
   "cell_type": "code",
   "execution_count": 4,
   "metadata": {},
   "outputs": [
    {
     "data": {
      "text/html": [
       "<div>\n",
       "<style scoped>\n",
       "    .dataframe tbody tr th:only-of-type {\n",
       "        vertical-align: middle;\n",
       "    }\n",
       "\n",
       "    .dataframe tbody tr th {\n",
       "        vertical-align: top;\n",
       "    }\n",
       "\n",
       "    .dataframe thead th {\n",
       "        text-align: right;\n",
       "    }\n",
       "</style>\n",
       "<table border=\"1\" class=\"dataframe\">\n",
       "  <thead>\n",
       "    <tr style=\"text-align: right;\">\n",
       "      <th></th>\n",
       "      <th>Unnamed: 0</th>\n",
       "      <th>Timestamp</th>\n",
       "      <th>Artist</th>\n",
       "      <th>Track</th>\n",
       "      <th>Album</th>\n",
       "      <th>Loved</th>\n",
       "      <th>Tags</th>\n",
       "      <th>Date formatted</th>\n",
       "      <th>Weekday</th>\n",
       "      <th>Weekday_number</th>\n",
       "      <th>Hour</th>\n",
       "      <th>Month</th>\n",
       "      <th>Year</th>\n",
       "    </tr>\n",
       "  </thead>\n",
       "  <tbody>\n",
       "    <tr>\n",
       "      <th>0</th>\n",
       "      <td>0</td>\n",
       "      <td>1573238984</td>\n",
       "      <td>Travis</td>\n",
       "      <td>Turn</td>\n",
       "      <td>The Man Who</td>\n",
       "      <td>0</td>\n",
       "      <td>['britpop', 'indie', 'rock', 'alternative', 'b...</td>\n",
       "      <td>2019-11-08 19:49:44+01:00</td>\n",
       "      <td>Friday</td>\n",
       "      <td>5</td>\n",
       "      <td>19</td>\n",
       "      <td>11</td>\n",
       "      <td>2019</td>\n",
       "    </tr>\n",
       "    <tr>\n",
       "      <th>1</th>\n",
       "      <td>1</td>\n",
       "      <td>1573238758</td>\n",
       "      <td>Travis</td>\n",
       "      <td>The Beautiful Occupation</td>\n",
       "      <td>12 Memories</td>\n",
       "      <td>0</td>\n",
       "      <td>['britpop', 'indie', 'rock', 'alternative', 'b...</td>\n",
       "      <td>2019-11-08 19:45:58+01:00</td>\n",
       "      <td>Friday</td>\n",
       "      <td>5</td>\n",
       "      <td>19</td>\n",
       "      <td>11</td>\n",
       "      <td>2019</td>\n",
       "    </tr>\n",
       "    <tr>\n",
       "      <th>2</th>\n",
       "      <td>2</td>\n",
       "      <td>1573238524</td>\n",
       "      <td>Travis</td>\n",
       "      <td>All I Want To Do Is Rock</td>\n",
       "      <td>Good Feeling</td>\n",
       "      <td>0</td>\n",
       "      <td>['britpop', 'indie', 'rock', 'alternative', 'b...</td>\n",
       "      <td>2019-11-08 19:42:04+01:00</td>\n",
       "      <td>Friday</td>\n",
       "      <td>5</td>\n",
       "      <td>19</td>\n",
       "      <td>11</td>\n",
       "      <td>2019</td>\n",
       "    </tr>\n",
       "    <tr>\n",
       "      <th>3</th>\n",
       "      <td>3</td>\n",
       "      <td>1573238268</td>\n",
       "      <td>Travis</td>\n",
       "      <td>Happy</td>\n",
       "      <td>Good Feeling</td>\n",
       "      <td>0</td>\n",
       "      <td>['britpop', 'indie', 'rock', 'alternative', 'b...</td>\n",
       "      <td>2019-11-08 19:37:48+01:00</td>\n",
       "      <td>Friday</td>\n",
       "      <td>5</td>\n",
       "      <td>19</td>\n",
       "      <td>11</td>\n",
       "      <td>2019</td>\n",
       "    </tr>\n",
       "    <tr>\n",
       "      <th>4</th>\n",
       "      <td>4</td>\n",
       "      <td>1573238027</td>\n",
       "      <td>Travis</td>\n",
       "      <td>U16 Girls</td>\n",
       "      <td>Good Feeling</td>\n",
       "      <td>0</td>\n",
       "      <td>['britpop', 'indie', 'rock', 'alternative', 'b...</td>\n",
       "      <td>2019-11-08 19:33:47+01:00</td>\n",
       "      <td>Friday</td>\n",
       "      <td>5</td>\n",
       "      <td>19</td>\n",
       "      <td>11</td>\n",
       "      <td>2019</td>\n",
       "    </tr>\n",
       "    <tr>\n",
       "      <th>5</th>\n",
       "      <td>5</td>\n",
       "      <td>1573237787</td>\n",
       "      <td>Travis</td>\n",
       "      <td>Side</td>\n",
       "      <td>The Invisible Band</td>\n",
       "      <td>0</td>\n",
       "      <td>['britpop', 'indie', 'rock', 'alternative', 'b...</td>\n",
       "      <td>2019-11-08 19:29:47+01:00</td>\n",
       "      <td>Friday</td>\n",
       "      <td>5</td>\n",
       "      <td>19</td>\n",
       "      <td>11</td>\n",
       "      <td>2019</td>\n",
       "    </tr>\n",
       "    <tr>\n",
       "      <th>6</th>\n",
       "      <td>6</td>\n",
       "      <td>1573237550</td>\n",
       "      <td>Travis</td>\n",
       "      <td>More Than Us</td>\n",
       "      <td>Good Feeling</td>\n",
       "      <td>0</td>\n",
       "      <td>['britpop', 'indie', 'rock', 'alternative', 'b...</td>\n",
       "      <td>2019-11-08 19:25:50+01:00</td>\n",
       "      <td>Friday</td>\n",
       "      <td>5</td>\n",
       "      <td>19</td>\n",
       "      <td>11</td>\n",
       "      <td>2019</td>\n",
       "    </tr>\n",
       "    <tr>\n",
       "      <th>7</th>\n",
       "      <td>7</td>\n",
       "      <td>1573237330</td>\n",
       "      <td>Travis</td>\n",
       "      <td>Love Will Come Through</td>\n",
       "      <td>12 Memories</td>\n",
       "      <td>0</td>\n",
       "      <td>['britpop', 'indie', 'rock', 'alternative', 'b...</td>\n",
       "      <td>2019-11-08 19:22:10+01:00</td>\n",
       "      <td>Friday</td>\n",
       "      <td>5</td>\n",
       "      <td>19</td>\n",
       "      <td>11</td>\n",
       "      <td>2019</td>\n",
       "    </tr>\n",
       "    <tr>\n",
       "      <th>8</th>\n",
       "      <td>8</td>\n",
       "      <td>1573237107</td>\n",
       "      <td>Travis</td>\n",
       "      <td>Flowers in the Window</td>\n",
       "      <td>The Invisible Band</td>\n",
       "      <td>0</td>\n",
       "      <td>['britpop', 'indie', 'rock', 'alternative', 'b...</td>\n",
       "      <td>2019-11-08 19:18:27+01:00</td>\n",
       "      <td>Friday</td>\n",
       "      <td>5</td>\n",
       "      <td>19</td>\n",
       "      <td>11</td>\n",
       "      <td>2019</td>\n",
       "    </tr>\n",
       "    <tr>\n",
       "      <th>9</th>\n",
       "      <td>9</td>\n",
       "      <td>1573236918</td>\n",
       "      <td>Travis</td>\n",
       "      <td>Tied To The 90's</td>\n",
       "      <td>Good Feeling</td>\n",
       "      <td>0</td>\n",
       "      <td>['britpop', 'indie', 'rock', 'alternative', 'b...</td>\n",
       "      <td>2019-11-08 19:15:18+01:00</td>\n",
       "      <td>Friday</td>\n",
       "      <td>5</td>\n",
       "      <td>19</td>\n",
       "      <td>11</td>\n",
       "      <td>2019</td>\n",
       "    </tr>\n",
       "    <tr>\n",
       "      <th>10</th>\n",
       "      <td>10</td>\n",
       "      <td>1573236690</td>\n",
       "      <td>Travis</td>\n",
       "      <td>Re-Offender</td>\n",
       "      <td>12 Memories</td>\n",
       "      <td>0</td>\n",
       "      <td>['britpop', 'indie', 'rock', 'alternative', 'b...</td>\n",
       "      <td>2019-11-08 19:11:30+01:00</td>\n",
       "      <td>Friday</td>\n",
       "      <td>5</td>\n",
       "      <td>19</td>\n",
       "      <td>11</td>\n",
       "      <td>2019</td>\n",
       "    </tr>\n",
       "    <tr>\n",
       "      <th>11</th>\n",
       "      <td>11</td>\n",
       "      <td>1573236424</td>\n",
       "      <td>Travis</td>\n",
       "      <td>Why Does It Always Rain on Me?</td>\n",
       "      <td>The Man Who</td>\n",
       "      <td>0</td>\n",
       "      <td>['britpop', 'indie', 'rock', 'alternative', 'b...</td>\n",
       "      <td>2019-11-08 19:07:04+01:00</td>\n",
       "      <td>Friday</td>\n",
       "      <td>5</td>\n",
       "      <td>19</td>\n",
       "      <td>11</td>\n",
       "      <td>2019</td>\n",
       "    </tr>\n",
       "    <tr>\n",
       "      <th>12</th>\n",
       "      <td>12</td>\n",
       "      <td>1573236202</td>\n",
       "      <td>Travis</td>\n",
       "      <td>Writing To Reach You</td>\n",
       "      <td>The Man Who</td>\n",
       "      <td>0</td>\n",
       "      <td>['britpop', 'indie', 'rock', 'alternative', 'b...</td>\n",
       "      <td>2019-11-08 19:03:22+01:00</td>\n",
       "      <td>Friday</td>\n",
       "      <td>5</td>\n",
       "      <td>19</td>\n",
       "      <td>11</td>\n",
       "      <td>2019</td>\n",
       "    </tr>\n",
       "    <tr>\n",
       "      <th>13</th>\n",
       "      <td>13</td>\n",
       "      <td>1573235988</td>\n",
       "      <td>Travis</td>\n",
       "      <td>Driftwood</td>\n",
       "      <td>The Man Who</td>\n",
       "      <td>0</td>\n",
       "      <td>['britpop', 'indie', 'rock', 'alternative', 'b...</td>\n",
       "      <td>2019-11-08 18:59:48+01:00</td>\n",
       "      <td>Friday</td>\n",
       "      <td>5</td>\n",
       "      <td>18</td>\n",
       "      <td>11</td>\n",
       "      <td>2019</td>\n",
       "    </tr>\n",
       "    <tr>\n",
       "      <th>14</th>\n",
       "      <td>14</td>\n",
       "      <td>1573235759</td>\n",
       "      <td>Travis</td>\n",
       "      <td>Sing</td>\n",
       "      <td>The Invisible Band</td>\n",
       "      <td>0</td>\n",
       "      <td>['britpop', 'indie', 'rock', 'alternative', 'b...</td>\n",
       "      <td>2019-11-08 18:55:59+01:00</td>\n",
       "      <td>Friday</td>\n",
       "      <td>5</td>\n",
       "      <td>18</td>\n",
       "      <td>11</td>\n",
       "      <td>2019</td>\n",
       "    </tr>\n",
       "    <tr>\n",
       "      <th>15</th>\n",
       "      <td>15</td>\n",
       "      <td>1573232339</td>\n",
       "      <td>Father John Misty</td>\n",
       "      <td>Everyman Needs a Companion</td>\n",
       "      <td>Fear Fun</td>\n",
       "      <td>0</td>\n",
       "      <td>['folk', 'indie', 'indie folk', 'alt-country',...</td>\n",
       "      <td>2019-11-08 17:58:59+01:00</td>\n",
       "      <td>Friday</td>\n",
       "      <td>5</td>\n",
       "      <td>17</td>\n",
       "      <td>11</td>\n",
       "      <td>2019</td>\n",
       "    </tr>\n",
       "    <tr>\n",
       "      <th>16</th>\n",
       "      <td>16</td>\n",
       "      <td>1573232142</td>\n",
       "      <td>Father John Misty</td>\n",
       "      <td>Tee Pees 1-12</td>\n",
       "      <td>Fear Fun</td>\n",
       "      <td>0</td>\n",
       "      <td>['folk', 'indie', 'indie folk', 'alt-country',...</td>\n",
       "      <td>2019-11-08 17:55:42+01:00</td>\n",
       "      <td>Friday</td>\n",
       "      <td>5</td>\n",
       "      <td>17</td>\n",
       "      <td>11</td>\n",
       "      <td>2019</td>\n",
       "    </tr>\n",
       "    <tr>\n",
       "      <th>17</th>\n",
       "      <td>17</td>\n",
       "      <td>1573231886</td>\n",
       "      <td>Father John Misty</td>\n",
       "      <td>Now I'm Learning to Love the War</td>\n",
       "      <td>Fear Fun</td>\n",
       "      <td>0</td>\n",
       "      <td>['folk', 'indie', 'indie folk', 'alt-country',...</td>\n",
       "      <td>2019-11-08 17:51:26+01:00</td>\n",
       "      <td>Friday</td>\n",
       "      <td>5</td>\n",
       "      <td>17</td>\n",
       "      <td>11</td>\n",
       "      <td>2019</td>\n",
       "    </tr>\n",
       "    <tr>\n",
       "      <th>18</th>\n",
       "      <td>18</td>\n",
       "      <td>1573231722</td>\n",
       "      <td>Father John Misty</td>\n",
       "      <td>Well, You Can Do It Without Me</td>\n",
       "      <td>Fear Fun</td>\n",
       "      <td>0</td>\n",
       "      <td>['folk', 'indie', 'indie folk', 'alt-country',...</td>\n",
       "      <td>2019-11-08 17:48:42+01:00</td>\n",
       "      <td>Friday</td>\n",
       "      <td>5</td>\n",
       "      <td>17</td>\n",
       "      <td>11</td>\n",
       "      <td>2019</td>\n",
       "    </tr>\n",
       "    <tr>\n",
       "      <th>19</th>\n",
       "      <td>19</td>\n",
       "      <td>1573231485</td>\n",
       "      <td>Father John Misty</td>\n",
       "      <td>This Is Sally Hatchet</td>\n",
       "      <td>Fear Fun</td>\n",
       "      <td>0</td>\n",
       "      <td>['folk', 'indie', 'indie folk', 'alt-country',...</td>\n",
       "      <td>2019-11-08 17:44:45+01:00</td>\n",
       "      <td>Friday</td>\n",
       "      <td>5</td>\n",
       "      <td>17</td>\n",
       "      <td>11</td>\n",
       "      <td>2019</td>\n",
       "    </tr>\n",
       "  </tbody>\n",
       "</table>\n",
       "</div>"
      ],
      "text/plain": [
       "    Unnamed: 0   Timestamp             Artist  \\\n",
       "0            0  1573238984             Travis   \n",
       "1            1  1573238758             Travis   \n",
       "2            2  1573238524             Travis   \n",
       "3            3  1573238268             Travis   \n",
       "4            4  1573238027             Travis   \n",
       "5            5  1573237787             Travis   \n",
       "6            6  1573237550             Travis   \n",
       "7            7  1573237330             Travis   \n",
       "8            8  1573237107             Travis   \n",
       "9            9  1573236918             Travis   \n",
       "10          10  1573236690             Travis   \n",
       "11          11  1573236424             Travis   \n",
       "12          12  1573236202             Travis   \n",
       "13          13  1573235988             Travis   \n",
       "14          14  1573235759             Travis   \n",
       "15          15  1573232339  Father John Misty   \n",
       "16          16  1573232142  Father John Misty   \n",
       "17          17  1573231886  Father John Misty   \n",
       "18          18  1573231722  Father John Misty   \n",
       "19          19  1573231485  Father John Misty   \n",
       "\n",
       "                               Track               Album  Loved  \\\n",
       "0                               Turn         The Man Who      0   \n",
       "1           The Beautiful Occupation         12 Memories      0   \n",
       "2           All I Want To Do Is Rock        Good Feeling      0   \n",
       "3                              Happy        Good Feeling      0   \n",
       "4                          U16 Girls        Good Feeling      0   \n",
       "5                               Side  The Invisible Band      0   \n",
       "6                       More Than Us        Good Feeling      0   \n",
       "7             Love Will Come Through         12 Memories      0   \n",
       "8              Flowers in the Window  The Invisible Band      0   \n",
       "9                   Tied To The 90's        Good Feeling      0   \n",
       "10                       Re-Offender         12 Memories      0   \n",
       "11    Why Does It Always Rain on Me?         The Man Who      0   \n",
       "12              Writing To Reach You         The Man Who      0   \n",
       "13                         Driftwood         The Man Who      0   \n",
       "14                              Sing  The Invisible Band      0   \n",
       "15        Everyman Needs a Companion            Fear Fun      0   \n",
       "16                     Tee Pees 1-12            Fear Fun      0   \n",
       "17  Now I'm Learning to Love the War            Fear Fun      0   \n",
       "18    Well, You Can Do It Without Me            Fear Fun      0   \n",
       "19             This Is Sally Hatchet            Fear Fun      0   \n",
       "\n",
       "                                                 Tags  \\\n",
       "0   ['britpop', 'indie', 'rock', 'alternative', 'b...   \n",
       "1   ['britpop', 'indie', 'rock', 'alternative', 'b...   \n",
       "2   ['britpop', 'indie', 'rock', 'alternative', 'b...   \n",
       "3   ['britpop', 'indie', 'rock', 'alternative', 'b...   \n",
       "4   ['britpop', 'indie', 'rock', 'alternative', 'b...   \n",
       "5   ['britpop', 'indie', 'rock', 'alternative', 'b...   \n",
       "6   ['britpop', 'indie', 'rock', 'alternative', 'b...   \n",
       "7   ['britpop', 'indie', 'rock', 'alternative', 'b...   \n",
       "8   ['britpop', 'indie', 'rock', 'alternative', 'b...   \n",
       "9   ['britpop', 'indie', 'rock', 'alternative', 'b...   \n",
       "10  ['britpop', 'indie', 'rock', 'alternative', 'b...   \n",
       "11  ['britpop', 'indie', 'rock', 'alternative', 'b...   \n",
       "12  ['britpop', 'indie', 'rock', 'alternative', 'b...   \n",
       "13  ['britpop', 'indie', 'rock', 'alternative', 'b...   \n",
       "14  ['britpop', 'indie', 'rock', 'alternative', 'b...   \n",
       "15  ['folk', 'indie', 'indie folk', 'alt-country',...   \n",
       "16  ['folk', 'indie', 'indie folk', 'alt-country',...   \n",
       "17  ['folk', 'indie', 'indie folk', 'alt-country',...   \n",
       "18  ['folk', 'indie', 'indie folk', 'alt-country',...   \n",
       "19  ['folk', 'indie', 'indie folk', 'alt-country',...   \n",
       "\n",
       "               Date formatted Weekday  Weekday_number  Hour  Month  Year  \n",
       "0   2019-11-08 19:49:44+01:00  Friday               5    19     11  2019  \n",
       "1   2019-11-08 19:45:58+01:00  Friday               5    19     11  2019  \n",
       "2   2019-11-08 19:42:04+01:00  Friday               5    19     11  2019  \n",
       "3   2019-11-08 19:37:48+01:00  Friday               5    19     11  2019  \n",
       "4   2019-11-08 19:33:47+01:00  Friday               5    19     11  2019  \n",
       "5   2019-11-08 19:29:47+01:00  Friday               5    19     11  2019  \n",
       "6   2019-11-08 19:25:50+01:00  Friday               5    19     11  2019  \n",
       "7   2019-11-08 19:22:10+01:00  Friday               5    19     11  2019  \n",
       "8   2019-11-08 19:18:27+01:00  Friday               5    19     11  2019  \n",
       "9   2019-11-08 19:15:18+01:00  Friday               5    19     11  2019  \n",
       "10  2019-11-08 19:11:30+01:00  Friday               5    19     11  2019  \n",
       "11  2019-11-08 19:07:04+01:00  Friday               5    19     11  2019  \n",
       "12  2019-11-08 19:03:22+01:00  Friday               5    19     11  2019  \n",
       "13  2019-11-08 18:59:48+01:00  Friday               5    18     11  2019  \n",
       "14  2019-11-08 18:55:59+01:00  Friday               5    18     11  2019  \n",
       "15  2019-11-08 17:58:59+01:00  Friday               5    17     11  2019  \n",
       "16  2019-11-08 17:55:42+01:00  Friday               5    17     11  2019  \n",
       "17  2019-11-08 17:51:26+01:00  Friday               5    17     11  2019  \n",
       "18  2019-11-08 17:48:42+01:00  Friday               5    17     11  2019  \n",
       "19  2019-11-08 17:44:45+01:00  Friday               5    17     11  2019  "
      ]
     },
     "execution_count": 4,
     "metadata": {},
     "output_type": "execute_result"
    }
   ],
   "source": [
    "scrobbles_df.head(20)"
   ]
  },
  {
   "cell_type": "markdown",
   "metadata": {},
   "source": [
    "## Top 10 everything!\n",
    "\n",
    "First, let's build simple charts with top 10 artists, albums, tracks and tags for the whole period."
   ]
  },
  {
   "cell_type": "code",
   "execution_count": 5,
   "metadata": {},
   "outputs": [
    {
     "data": {
      "image/png": "[encoded data removed]",
      "text/plain": [
       "<Figure size 720x432 with 1 Axes>"
      ]
     },
     "metadata": {
      "needs_background": "light"
     },
     "output_type": "display_data"
    }
   ],
   "source": [
    "top_artists = Counter(scrobbles_df['Artist'])\n",
    "top_100_artists = top_artists.most_common(100)\n",
    "\n",
    "x_artists = [item[0] for item in top_100_artists]\n",
    "y_artists = [item[1] for item in top_100_artists]\n",
    "\n",
    "\n",
    "plt.subplots(figsize=(10, 6))\n",
    "\n",
    "palette = sns.cubehelix_palette(10, start=1.5, rot=-.75, reverse=True)\n",
    "\n",
    "artists_plot = sns.barplot(y_artists[:10], x_artists[:10], palette=palette)\n",
    "artists_plot.axes.get_xaxis().set_visible(False)\n",
    "artists_plot.set_title('Top 10 Artists - All time', fontsize=20)\n",
    "for p in artists_plot.patches:\n",
    "    artists_plot.text(p.get_width() * 1.01, p.get_y() + p.get_height()/2.,'%d' % int(p.get_width()), \n",
    "            fontsize=12, ha='left', va='center')\n",
    "\n",
    "    top_albums = Counter(scrobbles_df['Album'])"
   ]
  },
  {
   "cell_type": "code",
   "execution_count": 6,
   "metadata": {},
   "outputs": [
    {
     "data": {
      "image/png": "[encoded data removed]",
      "text/plain": [
       "<Figure size 864x432 with 1 Axes>"
      ]
     },
     "metadata": {
      "needs_background": "light"
     },
     "output_type": "display_data"
    }
   ],
   "source": [
    "top_albums = Counter(scrobbles_df['Album'])\n",
    "top_100_albums = top_albums.most_common(100)\n",
    "\n",
    "x_albums = [item[0] for item in top_100_albums]\n",
    "y_albums = [item[1] for item in top_100_albums]\n",
    "\n",
    "x_albums_with_artist = []\n",
    "for i in range(len(x_albums)):\n",
    "    try:\n",
    "        album = x_albums[i]\n",
    "        artist = scrobbles_df[scrobbles_df.Album == album]['Artist'].mode()[0]\n",
    "        album_artist = album + \" (\" + artist + \")\"\n",
    "        x_albums_with_artist.append(album_artist)\n",
    "    except: x_albums_with_artist.append(\"nan\")\n",
    "\n",
    "plt.subplots(figsize=(12, 6))\n",
    "albums_plot = sns.barplot(y_albums[1:11], x_albums_with_artist[1:11], palette=palette)\n",
    "albums_plot.axes.get_xaxis().set_visible(False)\n",
    "albums_plot.set_title('Top 10 Albums - All time', fontsize=20)\n",
    "for p in albums_plot.patches:\n",
    "    albums_plot.text(p.get_width() * 1.01, p.get_y() + p.get_height()/2.,'%d' % int(p.get_width()), \n",
    "            fontsize=12, ha='left', va='center')"
   ]
  },
  {
   "cell_type": "code",
   "execution_count": 7,
   "metadata": {},
   "outputs": [
    {
     "data": {
      "image/png": "[encoded data removed]",
      "text/plain": [
       "<Figure size 720x432 with 1 Axes>"
      ]
     },
     "metadata": {
      "needs_background": "light"
     },
     "output_type": "display_data"
    }
   ],
   "source": [
    "top_tracks = Counter(scrobbles_df['Track'])\n",
    "top_100_tracks = top_tracks.most_common(100)\n",
    "\n",
    "x_tracks = [item[0] for item in top_100_tracks]\n",
    "y_tracks = [item[1] for item in top_100_tracks]\n",
    "\n",
    "\n",
    "x_tracks_with_artist = []\n",
    "for i in range(len(x_albums)):\n",
    "    try:\n",
    "        track = x_tracks[i]\n",
    "        artist = scrobbles_df[scrobbles_df.Track == track]['Artist'].mode()[0]\n",
    "        track_artist = track + \" (\" + artist + \")\"\n",
    "        x_tracks_with_artist.append(track_artist)\n",
    "    except: x_tracks_with_artist.append(\"nan\")\n",
    "        \n",
    "        \n",
    "plt.subplots(figsize=(10, 6))\n",
    "tracks_plot = sns.barplot(y_tracks[:10], x_tracks_with_artist[:10], palette=palette)\n",
    "tracks_plot.axes.get_xaxis().set_visible(False)\n",
    "tracks_plot.set_title('Top 10 Tracks - All time', fontsize=20)\n",
    "for p in tracks_plot.patches:\n",
    "    tracks_plot.text(p.get_width()*1.01, p.get_y() + p.get_height()/2.,'%d' % int(p.get_width()), \n",
    "            fontsize=12, ha='left', va='center')"
   ]
  },
  {
   "cell_type": "code",
   "execution_count": 8,
   "metadata": {},
   "outputs": [
    {
     "data": {
      "image/png": "[encoded data removed]",
      "text/plain": [
       "<Figure size 864x432 with 1 Axes>"
      ]
     },
     "metadata": {
      "needs_background": "light"
     },
     "output_type": "display_data"
    }
   ],
   "source": [
    "tags_df = scrobbles_df['Tags']\n",
    "count_tags = {}\n",
    "\n",
    "for i in range(len(scrobbles_df)):\n",
    "    str1 = tags_df.iloc[i]\n",
    "    str1 = str1.replace(\"[\",\"\").replace(\"]\",\"\").replace(\"'\",\"\")\n",
    "    str1 = str1.split(\", \")\n",
    "    for j in range(len(str1)):\n",
    "        if str1[j] not in count_tags:\n",
    "            count_tags[str1[j]] = 1\n",
    "        elif str1[j] in count_tags:\n",
    "            count_tags[str1[j]] += 1\n",
    "            \n",
    "top_tags = Counter(count_tags)\n",
    "top_100_tags = top_tags.most_common(100)\n",
    "\n",
    "x_tags = [item[0] for item in top_100_tags]\n",
    "y_tags = [item[1] for item in top_100_tags]\n",
    "\n",
    "plt.subplots(figsize=(12, 6))\n",
    "tags_plot = sns.barplot(y_tags[:10], x_tags[:10], palette = palette)\n",
    "tags_plot.axes.get_xaxis().set_visible(False)\n",
    "tags_plot.set_title('Top 10 Tags - All time', fontsize=20)\n",
    "for p in tags_plot.patches:\n",
    "    tags_plot.text(p.get_width()*1.01, p.get_y() + p.get_height()/2.,'%d' % int(p.get_width()), \n",
    "            fontsize=12, ha='left', va='center')"
   ]
  },
  {
   "cell_type": "markdown",
   "metadata": {},
   "source": [
    "### Last week and Last month comparisons\n",
    "\n",
    "This is another very basic comparison, but anyway let's do it."
   ]
  },
  {
   "cell_type": "code",
   "execution_count": 9,
   "metadata": {},
   "outputs": [],
   "source": [
    "import datetime\n",
    "\n",
    "today = scrobbles_df.iloc[0]['Date formatted']\n",
    "\n",
    "week = datetime.timedelta(days=7)\n",
    "last_week = today - week\n",
    "two_weeks_ago = last_week - week"
   ]
  },
  {
   "cell_type": "code",
   "execution_count": 10,
   "metadata": {},
   "outputs": [],
   "source": [
    "last_week_scrobbles = scrobbles_df[scrobbles_df['Date formatted'] > last_week]\n",
    "\n",
    "two_weeks_ago_scrobbles = scrobbles_df[scrobbles_df['Date formatted'] < last_week]\n",
    "two_weeks_ago_scrobbles = two_weeks_ago_scrobbles[two_weeks_ago_scrobbles['Date formatted'] > two_weeks_ago]\n",
    "\n",
    "weekly_scrobbles = {two_weeks_ago.strftime('%m/%d'): len(two_weeks_ago_scrobbles),\n",
    "                    last_week.strftime('%m/%d'): len(last_week_scrobbles)}"
   ]
  },
  {
   "cell_type": "code",
   "execution_count": 11,
   "metadata": {},
   "outputs": [],
   "source": [
    "last_week_artists = pd.unique(last_week_scrobbles['Artist'])\n",
    "two_weeks_ago_artists = pd.unique(two_weeks_ago_scrobbles['Artist'])\n",
    "\n",
    "weekly_artists = {two_weeks_ago.strftime('%m/%d'): len(two_weeks_ago_artists),\n",
    "                  last_week.strftime('%m/%d'): len(last_week_artists)}"
   ]
  },
  {
   "cell_type": "code",
   "execution_count": 12,
   "metadata": {},
   "outputs": [],
   "source": [
    "last_week_albums = pd.unique(last_week_scrobbles['Album'])\n",
    "two_weeks_ago_albums = pd.unique(two_weeks_ago_scrobbles['Album'])\n",
    "\n",
    "weekly_albums = {two_weeks_ago.strftime('%m/%d'): len(two_weeks_ago_albums),\n",
    "                 last_week.strftime('%m/%d'): len(last_week_albums)}"
   ]
  },
  {
   "cell_type": "code",
   "execution_count": 13,
   "metadata": {},
   "outputs": [
    {
     "data": {
      "text/plain": [
       "Text(0.5, 1.0, '# of albums - WoW')"
      ]
     },
     "execution_count": 13,
     "metadata": {},
     "output_type": "execute_result"
    },
    {
     "data": {
      "image/png": "[encoded data removed]",
      "text/plain": [
       "<Figure size 1296x360 with 3 Axes>"
      ]
     },
     "metadata": {
      "needs_background": "light"
     },
     "output_type": "display_data"
    }
   ],
   "source": [
    "plt.subplots(figsize=(18, 5))\n",
    "\n",
    "plt.subplot(1, 3, 1)\n",
    "lists = weekly_scrobbles.items()\n",
    "x, y = zip(*lists)\n",
    "\n",
    "artists_dist = sns.barplot(list(x), list(y), color='#32271e')\n",
    "artists_dist.axes.get_xaxis().set_visible(True)\n",
    "artists_dist.set_title('# of scrobbles - WoW', fontsize=15)\n",
    "\n",
    "plt.subplot(1, 3, 2)\n",
    "lists = weekly_artists.items()\n",
    "x, y = zip(*lists)\n",
    "\n",
    "artists_dist = sns.barplot(list(x), list(y), color='#32271e')\n",
    "artists_dist.axes.get_xaxis().set_visible(True)\n",
    "artists_dist.set_title('# of artists - WoW', fontsize=15)\n",
    "\n",
    "plt.subplot(1, 3, 3)\n",
    "lists = weekly_albums.items()\n",
    "x, y = zip(*lists)\n",
    "\n",
    "artists_dist = sns.barplot(list(x), list(y), color='#32271e')\n",
    "artists_dist.axes.get_xaxis().set_visible(True)\n",
    "artists_dist.set_title('# of albums - WoW', fontsize=15)"
   ]
  },
  {
   "cell_type": "code",
   "execution_count": 14,
   "metadata": {},
   "outputs": [],
   "source": [
    "month = datetime.timedelta(days=30)\n",
    "last_month = today - month\n",
    "two_months_ago = last_month - month"
   ]
  },
  {
   "cell_type": "code",
   "execution_count": 15,
   "metadata": {},
   "outputs": [],
   "source": [
    "last_month_scrobbles = scrobbles_df[scrobbles_df['Date formatted'] > last_month]\n",
    "\n",
    "two_months_ago_scrobbles = scrobbles_df[scrobbles_df['Date formatted'] < last_month]\n",
    "two_months_ago_scrobbles = two_months_ago_scrobbles[two_months_ago_scrobbles['Date formatted'] > two_months_ago]\n",
    "\n",
    "monthly_scrobbles = {two_months_ago.strftime('%m/%d'): len(two_months_ago_scrobbles),\n",
    "                     last_month.strftime('%m/%d'): len(last_month_scrobbles)}"
   ]
  },
  {
   "cell_type": "code",
   "execution_count": 16,
   "metadata": {},
   "outputs": [],
   "source": [
    "last_month_artists = pd.unique(last_month_scrobbles['Artist'])\n",
    "two_months_ago_artists = pd.unique(two_months_ago_scrobbles['Artist'])\n",
    "\n",
    "monthly_artists = {two_months_ago.strftime('%m/%d'): len(two_months_ago_artists),\n",
    "                   last_month.strftime('%m/%d'): len(last_month_artists)}"
   ]
  },
  {
   "cell_type": "code",
   "execution_count": 17,
   "metadata": {},
   "outputs": [],
   "source": [
    "last_month_albums = pd.unique(last_month_scrobbles['Album'])\n",
    "two_months_ago_albums = pd.unique(two_months_ago_scrobbles['Album'])\n",
    "\n",
    "monthly_albums = {two_months_ago.strftime('%m/%d'): len(two_months_ago_albums),\n",
    "                  last_month.strftime('%m/%d'): len(last_month_albums)}"
   ]
  },
  {
   "cell_type": "code",
   "execution_count": 18,
   "metadata": {},
   "outputs": [
    {
     "data": {
      "text/plain": [
       "Text(0.5, 1.0, '# of albums - MoM')"
      ]
     },
     "execution_count": 18,
     "metadata": {},
     "output_type": "execute_result"
    },
    {
     "data": {
      "image/png": "[encoded data removed]",
      "text/plain": [
       "<Figure size 1296x360 with 3 Axes>"
      ]
     },
     "metadata": {
      "needs_background": "light"
     },
     "output_type": "display_data"
    }
   ],
   "source": [
    "plt.subplots(figsize=(18, 5))\n",
    "\n",
    "plt.subplot(1, 3, 1)\n",
    "lists = monthly_scrobbles.items()\n",
    "x, y = zip(*lists)\n",
    "\n",
    "artists_dist = sns.barplot(list(x), list(y), color='#32271e')\n",
    "artists_dist.axes.get_xaxis().set_visible(True)\n",
    "artists_dist.set_title('# of scrobbles - MoM', fontsize=15)\n",
    "\n",
    "plt.subplot(1, 3, 2)\n",
    "lists = monthly_artists.items()\n",
    "x, y = zip(*lists)\n",
    "\n",
    "artists_dist = sns.barplot(list(x), list(y), color='#32271e')\n",
    "artists_dist.axes.get_xaxis().set_visible(True)\n",
    "artists_dist.set_title('# of artists - MoM', fontsize=15)\n",
    "\n",
    "plt.subplot(1, 3, 3)\n",
    "lists = monthly_albums.items()\n",
    "x, y = zip(*lists)\n",
    "\n",
    "artists_dist = sns.barplot(list(x), list(y), color='#32271e')\n",
    "artists_dist.axes.get_xaxis().set_visible(True)\n",
    "artists_dist.set_title('# of albums - MoM', fontsize=15)"
   ]
  },
  {
   "cell_type": "markdown",
   "metadata": {},
   "source": [
    "## How concentrated is my taste?\n",
    "\n",
    "Let's check the distribution of artists, albums and tracks, to see if I listen too much of one thing in regard os others.\n",
    "\n",
    "We'll consider just the top 100 of each item, to keep the charts clean."
   ]
  },
  {
   "cell_type": "code",
   "execution_count": 19,
   "metadata": {},
   "outputs": [
    {
     "data": {
      "image/png": "[encoded data removed]",
      "text/plain": [
       "<Figure size 1296x720 with 4 Axes>"
      ]
     },
     "metadata": {
      "needs_background": "light"
     },
     "output_type": "display_data"
    }
   ],
   "source": [
    "palette_conc = sns.cubehelix_palette(100, start=1.5, rot=-.35, reverse=True)\n",
    "plt.subplots(figsize=(18, 10))\n",
    "\n",
    "plt.subplot(2, 2, 1)\n",
    "artists_dist = sns.barplot(x_artists, y_artists, palette = palette_conc)\n",
    "plt.setp(artists_dist.patches, linewidth=0.05)\n",
    "artists_dist.set_ylabel(\"Number of scrobbles per artist\")\n",
    "artists_dist.axes.get_xaxis().set_visible(False)\n",
    "artists_dist.set_title('Artists distribution', fontsize=15)\n",
    "\n",
    "plt.subplot(2, 2, 2)\n",
    "albums_dist = sns.barplot(x_albums_with_artist, y_albums, palette = palette_conc)\n",
    "plt.setp(albums_dist.patches, linewidth=0.05)\n",
    "albums_dist.set_ylabel(\"Number of scrobbles per album\")\n",
    "albums_dist.axes.get_xaxis().set_visible(False)\n",
    "albums_dist.set_title('Albums distribution', fontsize=15)\n",
    "\n",
    "plt.subplot(2, 2, 3)\n",
    "tracks_dist = sns.barplot(x_tracks_with_artist, y_tracks, palette = palette_conc)\n",
    "plt.setp(tracks_dist.patches, linewidth=0.05)\n",
    "tracks_dist.set_ylabel(\"Number of scrobbles per track\")\n",
    "tracks_dist.axes.get_xaxis().set_visible(False)\n",
    "tracks_dist.set_title('Tracks distributions', fontsize=15)\n",
    "\n",
    "plt.subplot(2, 2, 4)\n",
    "tags_dist = sns.barplot(x_tags, y_tags, palette = palette_conc)\n",
    "plt.setp(tags_dist.patches, linewidth=0.05)\n",
    "tags_dist.set_ylabel(\"Number of scrobbles per tag\")\n",
    "tags_dist.axes.get_xaxis().set_visible(False)\n",
    "tags_dist.set_title('Tags distributions', fontsize=15)\n",
    "\n",
    "plt.show()"
   ]
  },
  {
   "cell_type": "markdown",
   "metadata": {},
   "source": [
    "So, I have a high concentration of artists and tags (the curves are more dramatic), however the distribution on albums and tracks are smoother. The albums and tracks are more evenly distributed however they are albums from the same artists. (To be studied)"
   ]
  },
  {
   "cell_type": "markdown",
   "metadata": {},
   "source": [
    "_Soundtrack for this first part of the study: [The Kinks](https://open.spotify.com/user/ohhrosie/playlist/4bW4B1ZAJL2QeVxjmz3K4K?si=gzblx6t9R8OMJL2wgttdjw)_\n",
    "\n",
    "![Kinks](https://i.imgur.com/KcJd5eQb.png)\n",
    "\n",
    "\n",
    "\n",
    "\n",
    "\n",
    "## How I listen to music over time"
   ]
  },
  {
   "cell_type": "code",
   "execution_count": 20,
   "metadata": {},
   "outputs": [
    {
     "data": {
      "image/png": "[encoded data removed]",
      "text/plain": [
       "<Figure size 864x432 with 1 Axes>"
      ]
     },
     "metadata": {},
     "output_type": "display_data"
    }
   ],
   "source": [
    "years = sorted(list(scrobbles_df['Year'].unique()))\n",
    "tracks_per_year = [len(scrobbles_df[scrobbles_df['Year'] == i]) for i in years]\n",
    "\n",
    "palette_years = sns.color_palette(\"hls\", len(years))\n",
    "\n",
    "sns.set()\n",
    "plt.subplots(figsize=(12, 6))\n",
    "yearly_tracks = sns.barplot(years, tracks_per_year, palette=palette_years)\n",
    "yearly_tracks.set_title('Scrobbles per year', fontsize=20)\n",
    "for p in yearly_tracks.patches:\n",
    "    yearly_tracks.text(p.get_x() + p.get_width()/2., p.get_height(), '%d' % int(p.get_height()), \n",
    "            fontsize=12, ha='center', va='bottom')"
   ]
  },
  {
   "cell_type": "code",
   "execution_count": 21,
   "metadata": {},
   "outputs": [
    {
     "data": {
      "image/png": "[encoded data removed]",
      "text/plain": [
       "<Figure size 1152x432 with 2 Axes>"
      ]
     },
     "metadata": {},
     "output_type": "display_data"
    }
   ],
   "source": [
    "matrix_hour_weekday = scrobbles_df.pivot_table(index='Weekday_number', \n",
    "               columns='Hour',\n",
    "               aggfunc='size',\n",
    "               fill_value=0)\n",
    "\n",
    "f, ax = plt.subplots(figsize=(16, 6))\n",
    "heatmat_hour_weekday = sns.heatmap(matrix_hour_weekday, square=True,\n",
    "                                   yticklabels=['Mon', 'Tue', 'Wed', 'Thu', 'Fri', 'Sat', 'Sun'])\n",
    "title = 'How user ' + str(user) + ' listens to music according to day of the week and hour of the day'\n",
    "heatmat_hour_weekday.set_title(title, fontsize=18)\n",
    "plt.yticks(rotation=0)\n",
    "plt.xlabel(\"Hour of the day\")\n",
    "plt.ylabel(\"Day of the week\")\n",
    "plt.show()"
   ]
  },
  {
   "cell_type": "markdown",
   "metadata": {},
   "source": [
    "As per the heatmap above, I'm a person that listens to music mostly during working days and hours. As I work at an office and have regular working hours, we can see that I still listen to music when at home during the night.\n",
    "\n",
    "_Soundtrack for this first part of the study: [The Blossoms](https://open.spotify.com/album/0yO5Mwu2oDdGbeRFpAaBGa?si=yxsQbO8eStmMsBK7eDVvMA)_\n",
    "\n",
    "![Blossoms](https://i.imgur.com/KHt35a8b.jpg)"
   ]
  },
  {
   "cell_type": "markdown",
   "metadata": {},
   "source": [
    "### Obsessions over time\n",
    "\n",
    "Now I want to know the tracks that were on repeat for every year.\n",
    "\n",
    "But the first question is: am I a obsession-track-on-repeat? There are people that clearly listens to the same track over and over when they are in love with it, but am I like this? We have to analyze it.\n",
    "\n",
    "How many times do I have to listen to the same track to say it's an obsession?\n",
    "\n",
    "We'll run some studies."
   ]
  },
  {
   "cell_type": "code",
   "execution_count": 22,
   "metadata": {},
   "outputs": [],
   "source": [
    "scrobbles_per_year = {}\n",
    "\n",
    "for i in years:\n",
    "    scrobbles_per_year['tracks_' + str(i)] = scrobbles_df.loc[scrobbles_df['Year'] == i]"
   ]
  },
  {
   "cell_type": "code",
   "execution_count": 23,
   "metadata": {},
   "outputs": [],
   "source": [
    "dict_top_tracks = {}\n",
    "for key, value in scrobbles_per_year.items():\n",
    "    count = 0\n",
    "    old_track = ''\n",
    "    dict_tracks_per_year = {}\n",
    "    for i in range(len(value['Track'])):\n",
    "        new_track = value.iloc[i]['Track']\n",
    "        if old_track == new_track:\n",
    "            count += 1\n",
    "            if count > 2: dict_tracks_per_year[(value.iloc[i]['Artist'], value.iloc[i]['Track'])] = count\n",
    "        else:\n",
    "            count = 0\n",
    "        old_track = new_track\n",
    "    sorted_dict = sorted(dict_tracks_per_year.items(), key=lambda x: x[1], reverse=True)\n",
    "    dict_top_tracks[key[-4:]] = sorted_dict[:5]"
   ]
  },
  {
   "cell_type": "code",
   "execution_count": 24,
   "metadata": {},
   "outputs": [
    {
     "name": "stdout",
     "output_type": "stream",
     "text": [
      "In 2007 the most listened tracks on repeat were:\n",
      "\"The Mating Game\" by Bitter:Sweet 3 times\n",
      "\n",
      "In 2009 the most listened tracks on repeat were:\n",
      "\"Vlad the Impaler\" by Kasabian 13 times\n",
      "\"Club Foot\" by Kasabian 10 times\n",
      "\"Ladies & Gentlemen (Roll The Dice)\" by Kasabian 8 times\n",
      "\"Breakout\" by Foo Fighters 8 times\n",
      "\"L.S.F. (Lost Souls Forever)\" by Kasabian 7 times\n",
      "\n",
      "In 2010 the most listened tracks on repeat were:\n",
      "\"Sinking Friendships\" by Jónsi 8 times\n",
      "\"Boy Lilikoi\" by Jónsi 8 times\n",
      "\"Animal Arithmetic\" by Jónsi 8 times\n",
      "\"Go Do\" by Jónsi 8 times\n",
      "\"Kolnidur\" by Jónsi 6 times\n",
      "\n",
      "In 2011 the most listened tracks on repeat were:\n",
      "\"The Roller\" by Beady Eye 12 times\n",
      "\"Millionaire\" by Beady Eye 12 times\n",
      "\"Beatles and Stones\" by Beady Eye 12 times\n",
      "\"Bring the Light\" by Beady Eye 11 times\n",
      "\"For Anyone\" by Beady Eye 11 times\n",
      "\n",
      "In 2012 the most listened tracks on repeat were:\n",
      "\"Teddy Picker\" by Arctic Monkeys 8 times\n",
      "\"Who Put the Weight of the World on My Shoulders?\" by Oasis 3 times\n",
      "\"Place\" by Lucy Rose 3 times\n",
      "\"One Way Road\" by Oasis 3 times\n",
      "\"Wraith Pinned to the Mist (and other games)\" by of Montreal 3 times\n",
      "\n",
      "In 2013 the most listened tracks on repeat were:\n",
      "\"London's Burning\" by The Clash 3 times\n",
      "\"Don't Brother Me\" by Beady Eye 3 times\n",
      "\"Do I Wanna Know?\" by Arctic Monkeys 3 times\n",
      "\"Iz Rite\" by Beady Eye 3 times\n",
      "\"Soon Come Tomorrow\" by Beady Eye 3 times\n",
      "\n",
      "In 2014 the most listened tracks on repeat were:\n",
      "\"In the Heat of the Moment\" by Noel Gallagher's High Flying Birds 27 times\n",
      "\"Como Era Bom\" by Cachorro Grande 19 times\n",
      "\"Sad Song\" by Oasis 7 times\n",
      "\"Some Might Say\" by Oasis 7 times\n",
      "\"Lord Don't Slow Me Down\" by Oasis 7 times\n",
      "\n",
      "In 2015 the most listened tracks on repeat were:\n",
      "\"Slide Away\" by Oasis 38 times\n",
      "\"Elephant (Canyons Wooly Mammoth Extension)\" by Tame Impala 26 times\n",
      "\"Apocalypse Dreams (Live)\" by Tame Impala 11 times\n",
      "\"Let It Happen\" by Tame Impala 10 times\n",
      "\"…Like Clockwork\" by Queens of the Stone Age 9 times\n",
      "\n",
      "In 2016 the most listened tracks on repeat were:\n",
      "\"Sorry\" by Justin Bieber 16 times\n",
      "\"The Next Day\" by David Bowie 3 times\n",
      "\n",
      "In 2017 the most listened tracks on repeat were:\n",
      "\"Wall Of Glass\" by Liam Gallagher 37 times\n",
      "\"For What It's Worth\" by Liam Gallagher 10 times\n",
      "\"Chinatown\" by Liam Gallagher 3 times\n",
      "\"You're In Love With a Psycho\" by Kasabian 3 times\n",
      "\n",
      "In 2019 the most listened tracks on repeat were:\n",
      "\"How Long Will This Last?\" by Blossoms 52 times\n",
      "\"Favourites (feat. Little Simz)\" by THE S.L.P. 16 times\n",
      "\"One of Us\" by Liam Gallagher 5 times\n",
      "\"Nobody Else\" by THE S.L.P. 5 times\n",
      "\"The Youngest Gary\" by THE S.L.P. 4 times\n",
      "\n"
     ]
    }
   ],
   "source": [
    "for key, value in dict_top_tracks.items():\n",
    "    if len(value) > 0:\n",
    "        print('In', key, 'the most listened tracks on repeat were:')\n",
    "        for item in value:\n",
    "            print('\"' + item[0][1] + '\" by', item[0][0], item[1], 'times')\n",
    "        print('')"
   ]
  },
  {
   "cell_type": "markdown",
   "metadata": {},
   "source": [
    "_Soundtrack for this first part of the study: [Modest Mouse](https://open.spotify.com/album/5SbcupirEParczvqqyUPXL?si=DLNp2lX6Q82fDntFRM_fsQ)_\n",
    "\n",
    "![The Postal Service](https://imgur.com/ImSOx5pt.png)"
   ]
  },
  {
   "cell_type": "markdown",
   "metadata": {},
   "source": [
    "### Let's analyze a little bit the tags"
   ]
  },
  {
   "cell_type": "markdown",
   "metadata": {},
   "source": [
    "Now I want to understand what genres I'm listening to. This is given by TAGS on last.fm system. Any user can tag a song/artist/album as they want, so they are not **official** genres but as defined by the users. The top tags of an artist is the one that users tag the most, so although it's not 100% official, it should be precise enough for popular artists.\n",
    "\n",
    "We will build a vector of tags.\n",
    "\n",
    "First we will analyze some tags for some artists.\n",
    "\n",
    "Then we build a list with the unique tags. Then, for each scrobble, it will analyze if the tag is present. If it is, it will flag with 1 (on the position that tag is on the unique tags list) and, if not, with a 0."
   ]
  },
  {
   "cell_type": "code",
   "execution_count": 25,
   "metadata": {},
   "outputs": [
    {
     "data": {
      "text/plain": [
       "\"['britpop', 'indie', 'rock', 'alternative', 'british', 'indie rock', 'alternative rock', 'scottish', 'pop', 'indie pop', '90s', 'uk', 'male vocalists', 'scotland', 'acoustic', 'pop rock', '00s', 'glasgow']\""
      ]
     },
     "execution_count": 25,
     "metadata": {},
     "output_type": "execute_result"
    }
   ],
   "source": [
    "scrobbles_df.iloc[0]['Tags']"
   ]
  },
  {
   "cell_type": "markdown",
   "metadata": {},
   "source": [
    "For each tag cell, we can see there's a list that is interpreted as a string. We have to turn these strings into actual lists.\n",
    "\n",
    "Then, we'll build a mega list with all the unique tags for all artists (so later we build a matrix)"
   ]
  },
  {
   "cell_type": "code",
   "execution_count": 26,
   "metadata": {},
   "outputs": [],
   "source": [
    "import ast\n",
    "\n",
    "# I analyzed the tags beforehand and checked that these tags below only bring noise and not any value for our study,\n",
    "# so we'll exclude them from our mega list\n",
    "list_short = ['uk', 'mpb', 'pop', '20s', '30s','40s', '50s', '60s', '70s', '80s', '90s', '00s', '10s', \n",
    "              'emo', 'mod', 'rap', 'rnb', 'usa', 'dub', 'ska', 'r&b', 'idm', 'edm']\n",
    "all_tags = []\n",
    "\n",
    "for i in range(len(scrobbles_df)):\n",
    "    tag_list = ast.literal_eval(scrobbles_df['Tags'][i])\n",
    "    for j in tag_list:\n",
    "        if len(j) > 3 or j in list_short:\n",
    "            if j not in all_tags:\n",
    "                all_tags.append(j)"
   ]
  },
  {
   "cell_type": "code",
   "execution_count": 27,
   "metadata": {},
   "outputs": [],
   "source": [
    "def make_user_interest_vector(user_interests):\n",
    "    \"\"\" given a list of interests, produce a vector whose ith element iss 1\n",
    "    if unique_interests[i] is in the list, 0 otherwise \"\"\"\n",
    "    return [1 if interest in user_interests else 0\n",
    "            for interest in all_tags]"
   ]
  },
  {
   "cell_type": "code",
   "execution_count": 28,
   "metadata": {},
   "outputs": [],
   "source": [
    "supreme_list_tags_vector = []\n",
    "\n",
    "for i in range(len(scrobbles_df)):\n",
    "    list_tags = ast.literal_eval(scrobbles_df['Tags'][i])\n",
    "    tag_vector = make_user_interest_vector(list_tags)\n",
    "    supreme_list_tags_vector.append(tag_vector)  \n"
   ]
  },
  {
   "cell_type": "code",
   "execution_count": 29,
   "metadata": {},
   "outputs": [],
   "source": [
    "scrobbles_df['TagsVector'] = supreme_list_tags_vector"
   ]
  },
  {
   "cell_type": "markdown",
   "metadata": {},
   "source": [
    "_Soundtrack for this first part of the study: [Band of Horses](https://open.spotify.com/album/08fkw9uDP2KET6cPIl74Xo?si=YedcmWXjSuKg4ddN5saUfQ)_\n",
    "\n",
    "![Band of Horses](https://i.imgur.com/r9aLICc.jpg?1)"
   ]
  },
  {
   "cell_type": "markdown",
   "metadata": {},
   "source": [
    "Now we'll use K Means (using sklearn) to cluster similar artists according to the tags they have. We will define 10 clusters and see how they are grouped."
   ]
  },
  {
   "cell_type": "code",
   "execution_count": 39,
   "metadata": {},
   "outputs": [
    {
     "name": "stdout",
     "output_type": "stream",
     "text": [
      "CPU times: user 1min 13s, sys: 15.7 s, total: 1min 28s\n",
      "Wall time: 15min 39s\n"
     ]
    }
   ],
   "source": [
    "from sklearn.cluster import KMeans\n",
    "\n",
    "num_clusters = 10\n",
    "\n",
    "km = KMeans(n_clusters=num_clusters, n_jobs=2)\n",
    "\n",
    "%time km.fit(supreme_list_tags_vector)\n",
    "\n",
    "clusters = km.labels_.tolist()"
   ]
  },
  {
   "cell_type": "markdown",
   "metadata": {},
   "source": [
    "Here we create a dictionary of artist and its cluster assignment."
   ]
  },
  {
   "cell_type": "code",
   "execution_count": 40,
   "metadata": {},
   "outputs": [],
   "source": [
    "artists = { 'artist': list(scrobbles_df['Artist']), 'cluster': clusters}"
   ]
  },
  {
   "cell_type": "code",
   "execution_count": 41,
   "metadata": {},
   "outputs": [],
   "source": [
    "frame = pd.DataFrame(artists, index = [clusters] , columns = ['artist', 'cluster'])"
   ]
  },
  {
   "cell_type": "code",
   "execution_count": 42,
   "metadata": {},
   "outputs": [
    {
     "data": {
      "text/plain": [
       "6    17018\n",
       "5    13295\n",
       "3     8651\n",
       "0     8258\n",
       "1     8017\n",
       "2     5702\n",
       "9     3798\n",
       "8     3772\n",
       "7     3421\n",
       "4     2490\n",
       "Name: cluster, dtype: int64"
      ]
     },
     "execution_count": 42,
     "metadata": {},
     "output_type": "execute_result"
    }
   ],
   "source": [
    "frame['cluster'].value_counts() # number of scrobbles per cluster (clusters from 0 to 4)"
   ]
  },
  {
   "cell_type": "markdown",
   "metadata": {},
   "source": [
    "Here is some indexing and sorting on each cluster to identify which are the top n (I chose n=6) words that are nearest to the cluster centroid. This gives a good sense of the main topic of the cluster."
   ]
  },
  {
   "cell_type": "code",
   "execution_count": 43,
   "metadata": {},
   "outputs": [
    {
     "name": "stdout",
     "output_type": "stream",
     "text": [
      "Top tags per cluster:\n",
      "\n",
      "\n",
      "Cluster 0 words: rock, classic rock, british, 60s, oldies, 70s,\n",
      "\n",
      "\n",
      "Cluster 0 artists: Mott the Hoople, John Lennon, The Beatles, The Rolling Stones, Small Faces, The Zombies, Tommy James & The Shondells, The Who, The Beach Boys, George Harrison, Fleetwood Mac, The Spencer Davis Group, The Kinks, The Easybeats, UFO, John's Children, The Syn, The Action, The Birds, Paul McCartney, Marc Bolan, The Yardbirds, The Troggs, Them, Status Quo, The Searchers, The Roulettes, The Creation, The Nice, Manfred Mann, Christie, The Equals, Eyes of Blue, Dusty Springfield, Traffic, Cream, The Monkees, Led Zeppelin, Procol Harum, The Kingsmen, Shakin' Stevens, Wings, The Bobby Fuller Four, The Castaways, Shocking Blue, The Animals, Steve Miller Band, Mungo Jerry, Herman's Hermits, Rod Stewart, T. Rex, \n",
      "\n",
      "=======================================================================================\n",
      "\n",
      "Cluster 1 words: british, rock, alternative, indie, indie rock, alternative rock,\n",
      "\n",
      "\n",
      "Cluster 1 artists: Cleaners From Venus, Prefab Sprout, Ash, Paul Weller, Jamie T, Dirty Pretty Things, Joy Division, Noel Gallagher's High Flying Birds, Alex Turner, Ride, The Jesus and Mary Chain, The Verve, Liam Gallagher, Miles Kane, Placebo, The Magic Numbers, The Coral, Radiohead, Suede, Johnny Marr, The Smiths, Happy Mondays, New Order, The Fratellis, Dexys Midnight Runners, Bloc Party, The La's, Cornershop, Muse, The Stone Roses, Franz Ferdinand, James, The The, The Pigeon Detectives, Keith, Echo & the Bunnymen, The Last Shadow Puppets, Ben Howard, Doves, The Courteeners, Paolo Nutini, The Vaccines, Richard Hawley, Beady Eye, The Kooks, Bombay Bicycle Club, Cast, Jake Bugg, Manic Street Preachers, Morrissey, Melanie C, \n",
      "\n",
      "=======================================================================================\n",
      "\n",
      "Cluster 2 words: british, indie, uk, alternative, indie rock, rock,\n",
      "\n",
      "\n",
      "Cluster 2 artists: Blossoms, Kasabian, Super Furry Animals, Primal Scream, Temples, Metronomy, Hot Chip, Beak>, Foals, Glass Animals, Django Django, Superorganism, Public Service Broadcasting, The Moonlandingz, Is Tropical, Death in Vegas, Fujiya & Miyagi, Stereolab, Space Monkeys, The Soundcarriers, Klaxons, Whitey, Kyte, Three Trapped Tigers, Electrelane, The Ting Tings, Tunng, Delays, Clor, \n",
      "\n",
      "=======================================================================================\n",
      "\n",
      "Cluster 3 words: alternative, rock, indie, uk, british, indie rock,\n",
      "\n",
      "\n",
      "Cluster 3 artists: Travis, The Rakes, Oasis, Stereophonics, Arctic Monkeys, Pulp, Blur, Reverend and the Makers, Supergrass, Kula Shaker, Kaiser Chiefs, The Enemy, The Cribs, Bastille, Ocean Colour Scene, The Seahorses, Maximo Park, Catfish and the Bottlemen, Coldplay, Longpigs, Maxïmo Park, Hard-Fi, The Rifles, Shed Seven, Richard Ashcroft, Lighthouse Family, Starsailor, Dodgy, The Bluetones, Babyshambles, RPA & The United Nations of Sound, The Feeling, Toploader, Razorlight, Snow Patrol, Little Man Tate, Keane, Idlewild, Feeder, \n",
      "\n",
      "=======================================================================================\n",
      "\n",
      "Cluster 4 words: folk, rock, american, folk rock, indie, male vocalists,\n",
      "\n",
      "\n",
      "Cluster 4 artists: Father John Misty, Jeff Buckley, Dan Auerbach, Cotton Jones, Hozier, The Tallest Man on Earth, Simon & Garfunkel, The National, Bon Iver, Johnny Cash, Ryan Adams, Joseph Arthur, John Mayer, Neil Young, Syd Barrett, The Broken Circle Breakdown Bluegrass Band, The Lovin' Spoonful, Kings of Leon, Jefferson Airplane, Paul Simon, Band of Horses, Sheryl Crow, Rosanne Cash, Bob Dylan, Bruce Springsteen, Harry Nilsson, Love, Wilco, Tom Petty, Creedence Clearwater Revival, Crosby, Stills, Nash & Young, Tom Petty and The Heartbreakers, The Doors, Gene Clark, Hurray For The Riff Raff, The Avett Brothers, Tracy Chapman, Joni Mitchell, The Black Crowes, America, The Secret Sisters, Jack White, Buffalo Springfield, Sharon Van Etten, Reeve Carney, Norman Greenbaum, Don McLean, Aerosmith, Uncle Tupelo, Jeffrey Foucault, Jay Farrar, \n",
      "\n",
      "=======================================================================================\n",
      "\n",
      "Cluster 5 words: indie, alternative, rock, indie rock, alternative rock, american,\n",
      "\n",
      "\n",
      "Cluster 5 artists: Modest Mouse, Little Joy, The Breeders, The Modern Lovers, Daniel Johnston, The Shivas, The Lemonheads, Rey Pila, Anna Calvi, Bauhaus, Guster, Rat Boy, Eagles of Death Metal, Heatmiser, Richard Swift, Dinosaur Jr., Iceage, Desert Sessions, Girl In Red, Courtney Barnett, Sufjan Stevens, The Staves, Cults, The Posies, Death Cab for Cutie, Beirut, Elliott Smith, Foo Fighters, The xx, Snail Mail, The Raconteurs, The Cardigans, Cambriana, Arcade Fire, Thee Oh Sees, Los Hermanos, The Hives, Phoenix, Katy Perry, Interpol, Lily Allen, Walk the Moon, Tove Lo, Billie Eilish, The Kills, The Libertines, PJ Harvey, Slightly Stoopid, Syd Matters, Rooney, Jem, \n",
      "\n",
      "=======================================================================================\n",
      "\n",
      "Cluster 6 words: american, pop, soul, female vocalists, singer-songwriter, jazz,\n",
      "\n",
      "\n",
      "Cluster 6 artists: The Claypool Lennon Delirium, Madeleine Peyroux, Black Pumas, Taylor Swift, Rosie Mankato, Kanye West, Disclosure, Selena Gomez, Breakbot, RuPaul, Shakira, Justin Bieber, Calvin Harris, Miley Cyrus, Demi Lovato, Kungs, Tim Baker, Mayer Hawthorne, The Clockworks, Michael Kiwanuka, OFENBACH, The Weeknd, Alan Walker, Bag Raiders, Major Lazer, Dennis Lloyd, DNCE, Traveling Wilburys, Norah Jones, Dua Lipa, ::M∆DE::IN::HEIGHTS::, Mark Ronson, Kate Clover, Prince, Janelle Monáe, OutKast, Silk City, Drake, M.I.A., Acid Tongue, Robin Thicke, Hultana, Kari Bin, Lars Meyer, August John Enrique, John Henriksson, Sigimund, Gabriel Parker, Dorothy Laddland, Eagle Lake, Silver Maple, \n",
      "\n",
      "=======================================================================================\n",
      "\n",
      "Cluster 7 words: classical, composer, instrumental, composers, classic, klassik,\n",
      "\n",
      "\n",
      "Cluster 7 artists: Igor Stravinsky, Franz Joseph Haydn, George Frideric Handel, Felix Mendelssohn, Erik Satie, Edvard Grieg, Johann Sebastian Bach, Gabriel Fauré, Johannes Brahms, Sir Edward Elgar, Frédéric Chopin, Samuel Barber, Ludwig van Beethoven, Pyotr Ilyich Tchaikovsky, Wolfgang Amadeus Mozart, James Horner, Tomaso Giovanni Albinoni, Claude Debussy, Richard Wagner, Johann Pachelbel, Maurice Ravel, Peter Warlock, Franz Liszt, Arvo Pärt, Jules Massenet, Camille Saint-Saëns, Ludovico Einaudi, Georg Friedrich Händel, Henry Purcell, Joep Beving, Max Richter, Antonio Vivaldi, Olivier Messiaen, Isaac Albéniz, Giuseppe Verdi, Carl Maria von Weber, Friedrich Gulda, Михаил Иванович Глинка, Bruno Bavota, Georgs Pelēcis, Hélène Grimaud, Martha Argerich, Pascal Rogé, Adolphe Adam, Sergei Rachmaninoff, Franz Schubert, Frederick Delius, Domenico Scarlatti, Robert Schumann, Karol Szymanowski, George Gershwin, \n",
      "\n",
      "=======================================================================================\n",
      "\n",
      "Cluster 8 words: rock, 80s, british, 70s, classic rock, alternative,\n",
      "\n",
      "\n",
      "Cluster 8 artists: David Bowie, Supertramp, The Jam, Squeeze, Elton John, The Alan Parsons Project, Dead or Alive, Public Image Ltd., The Clash, Queen, The Buggles, Lou Reed, Billy Idol, Duran Duran, The Specials, The Cure, Naked Eyes, Bryan Adams, Phil Collins, Iggy Pop, The Pretenders, Buzzcocks, Foreigner, Genesis, Wham!, Talking Heads, 999, Electric Light Orchestra, 10cc, UB40, Pink Floyd, Gerry Rafferty, Thin Lizzy, Rupert Holmes, Dire Straits, Tin Machine, Peter Frampton, The Undertones, Eddie & The Hot Rods, The Police, Steve Harley, Stealers Wheel, Mike Oldfield, The Knack, Siouxsie and the Banshees, The Creatures, David Byrne, Gang of Four, The Icicle Works, Freddie Mercury, Frankie Goes to Hollywood, \n",
      "\n",
      "=======================================================================================\n",
      "\n",
      "Cluster 9 words: psychedelic, indie, rock, indie rock, alternative, experimental,\n",
      "\n",
      "\n",
      "Cluster 9 artists: Warpaint, Tame Impala, Portugal. The Man, Deerhunter, Crocodiles, of Montreal, MGMT, The Telescopes, John Maus, Spiritualized, The Brian Jonestown Massacre, Dungen, Mercury Rev, Morgan Delt, Les Big Byrd, Wooden Shjips, Moon Duo, Dead Vibrations, Pond, A Place to Bury Strangers, Youth Lagoon, Carne Doce, Suuns, John Frusciante, Animal Collective, Gorky's Zygotic Mynci, Foxygen, Mac DeMarco, King Gizzard & The Lizard Wizard, Methyl Ethel, Toy, Melody's Echo Chamber, Ducktails, Sonic Boom, The Olivia Tremor Control, Secret Machines, Washed Out, Hookworms, Unknown Mortal Orchestra, Dumbo Gets Mad, Women, Spacemen 3, Moodoïd, Galaxie 500, The Warlocks, The Flaming Lips, Here We Go Magic, Trailer Trash Tracys, Bear in Heaven, Caribou, \n",
      "\n",
      "=======================================================================================\n",
      "\n",
      "\n",
      "\n"
     ]
    }
   ],
   "source": [
    "print(\"Top tags per cluster:\")\n",
    "print()\n",
    "#sort cluster centers by proximity to centroid\n",
    "order_centroids = km.cluster_centers_.argsort()[:, ::-1] \n",
    "dict_cluster_tags = {}\n",
    "dict_cluster_artists = {}\n",
    "\n",
    "for i in range(num_clusters):\n",
    "    list_titles = []\n",
    "    print(\"\\nCluster %d words:\" % i, end='')\n",
    "    \n",
    "    for ind in order_centroids[i, :6]:\n",
    "        print(' %s' % all_tags[ind], end=',')\n",
    "        try: dict_cluster_tags[i].append(all_tags[ind])\n",
    "        except: dict_cluster_tags[i] = [all_tags[ind]]\n",
    "    print('\\n\\n')\n",
    "    \n",
    "    print(\"Cluster %d artists: \" % i, end='')\n",
    "    for title in frame.loc[i]['artist'].values.tolist():\n",
    "        if title not in list_titles and len(list_titles) <= 50:\n",
    "            list_titles.append(title)\n",
    "            try: dict_cluster_artists[i].append(title)\n",
    "            except: dict_cluster_artists[i] = [title]\n",
    "    for i in range(0,len(list_titles)):\n",
    "        print(list_titles[i], end=', ') \n",
    "    print(\"\\n\\n=======================================================================================\") \n",
    "    \n",
    "print('\\n\\n')"
   ]
  },
  {
   "cell_type": "markdown",
   "metadata": {},
   "source": [
    "_Soundtrack for this first part of the study: [The Postal Service](https://open.spotify.com/album/4ssF0ppdJnMTtL2hg1CLKX?si=dUOpusnlRCOEoyNZ4oAhnA)_\n",
    "\n",
    "![The Postal Service](https://imgur.com/f5hmnPat.png)"
   ]
  },
  {
   "cell_type": "code",
   "execution_count": 44,
   "metadata": {},
   "outputs": [],
   "source": [
    "# import json\n",
    "# import pylast\n",
    "\n",
    "# def get_credentials():\n",
    "#     with open(\"secrets.json\", 'r') as file:\n",
    "#         jsonfile = json.load(file)\n",
    "#         API_KEY = jsonfile[\"API\"][\"API_KEY\"]\n",
    "#         API_SECRET = jsonfile[\"API\"][\"API_SECRET\"]\n",
    "#         username = jsonfile[\"API\"][\"username\"]\n",
    "#         password = jsonfile[\"API\"][\"password_hash\"]\n",
    "#         password_hash = pylast.md5(password)\n",
    "#     return API_KEY, API_SECRET, username, password, password_hash\n",
    "\n",
    "# API_KEY, API_SECRET, username, password, password_hash = get_credentials()\n",
    "# network = pylast.LastFMNetwork(api_key=API_KEY, api_secret=API_SECRET, username=username, password_hash=password_hash)\n",
    "\n",
    "# import requests\n",
    "# from collections import defaultdict, Counter\n",
    "\n",
    "# for i in range(len(dict_cluster_tags)):\n",
    "#     tags_list = dict_cluster_tags[i]\n",
    "#     dict_artists_tags = defaultdict(list)\n",
    "#     megalist = []\n",
    "#     for tag in tags_list:\n",
    "#         url = 'http://ws.audioscrobbler.com/2.0/?method=tag.gettopartists&tag=' + tag + '&api_key=' + API_KEY + '&format=json&limit=30'\n",
    "#         r = requests.get(url)\n",
    "#         r_json = json.loads(r.content)\n",
    "#         for a, artist in enumerate(r_json['topartists']['artist']):\n",
    "#             if artist not in dict_cluster_artists[i]:\n",
    "#                 megalist.append(artist['name'])\n",
    "#                 dict_artists_tags[tag].append(artist['name'])\n",
    "#     c = Counter(megalist).most_common(10)\n",
    "#     print(dict_cluster_tags[i], '\\n', c, '\\n\\n')"
   ]
  },
  {
   "cell_type": "markdown",
   "metadata": {},
   "source": [
    "### Simple recomendation\n",
    "\n",
    "Now that we have our clustered artists, we can try to start recommending new ones (based on the clusters). Let's start using the method \"Get Similar Artists\" from Last.fm itself.\n",
    "\n",
    "For a given cluster, we'll get the first 30 artists similar to each artist and rank by how many times the recommended artist appears. On this process, we make sure that the recommended artist is already not on the cluster"
   ]
  },
  {
   "cell_type": "code",
   "execution_count": 51,
   "metadata": {},
   "outputs": [],
   "source": [
    "all_artists = list(top_artists.keys())"
   ]
  },
  {
   "cell_type": "code",
   "execution_count": 52,
   "metadata": {},
   "outputs": [
    {
     "name": "stdout",
     "output_type": "stream",
     "text": [
      "For cluster with tags: rock, classic rock, british, 60s, oldies, 70s, \n",
      "Suggestions:\n",
      "-  The Dave Clark Five (seen 10 times)\n",
      "-  Cliff Richard (seen 8 times)\n",
      "-  Sweet (seen 7 times)\n",
      "-  The McCoys (seen 7 times)\n",
      "-  Slade (seen 6 times)\n",
      "-  Badfinger (seen 6 times)\n",
      "-  Steppenwolf (seen 6 times)\n",
      "-  Suzi Quatro (seen 6 times)\n",
      "-  MUD (seen 5 times)\n",
      "-  John Lennon & Yoko Ono (seen 5 times)\n",
      "\n",
      "\n",
      "\n",
      "For cluster with tags: british, rock, alternative, indie, indie rock, alternative rock, \n",
      "Suggestions:\n",
      "-  The Wombats (seen 12 times)\n",
      "-  Catfish and The Bottlemen (seen 11 times)\n",
      "-  Mystery Jets (seen 10 times)\n",
      "-  Circa Waves (seen 8 times)\n",
      "-  The Lightning Seeds (seen 7 times)\n",
      "-  Echobelly (seen 7 times)\n",
      "-  Peter Doherty (seen 6 times)\n",
      "-  Cage the Elephant (seen 6 times)\n",
      "-  Electronic (seen 5 times)\n",
      "-  Elastica (seen 5 times)\n",
      "\n",
      "\n",
      "\n",
      "For cluster with tags: british, indie, uk, alternative, indie rock, rock, \n",
      "Suggestions:\n",
      "-  Friendly Fires (seen 6 times)\n",
      "-  New Young Pony Club (seen 6 times)\n",
      "-  Soulwax (seen 5 times)\n",
      "-  The Beta Band (seen 4 times)\n",
      "-  Late of the Pier (seen 4 times)\n",
      "-  Holy Ghost! (seen 4 times)\n",
      "-  Does It Offend You, Yeah? (seen 4 times)\n",
      "-  Datarock (seen 4 times)\n",
      "-  Everything Everything (seen 4 times)\n",
      "-  Sundara Karma (seen 3 times)\n",
      "\n",
      "\n",
      "\n",
      "For cluster with tags: alternative, rock, indie, uk, british, indie rock, \n",
      "Suggestions:\n",
      "-  The Holloways (seen 11 times)\n",
      "-  Good Shoes (seen 10 times)\n",
      "-  Mystery Jets (seen 10 times)\n",
      "-  The Sunshine Underground (seen 9 times)\n",
      "-  The Wombats (seen 9 times)\n",
      "-  The Twang (seen 9 times)\n",
      "-  The Lightning Seeds (seen 9 times)\n",
      "-  Echobelly (seen 8 times)\n",
      "-  Boy Kill Boy (seen 7 times)\n",
      "-  Reef (seen 7 times)\n",
      "\n",
      "\n",
      "\n",
      "For cluster with tags: folk, rock, american, folk rock, indie, male vocalists, \n",
      "Suggestions:\n",
      "-  Jackson Browne (seen 9 times)\n",
      "-  James Taylor (seen 7 times)\n",
      "-  Josh Ritter (seen 6 times)\n",
      "-  Lucinda Williams (seen 6 times)\n",
      "-  Warren Zevon (seen 6 times)\n",
      "-  Bob Seger & The Silver Bullet Band (seen 6 times)\n",
      "-  Phosphorescent (seen 5 times)\n",
      "-  Tim Buckley (seen 5 times)\n",
      "-  Steve Earle (seen 5 times)\n",
      "-  Emmylou Harris (seen 5 times)\n",
      "\n",
      "\n",
      "\n",
      "For cluster with tags: indie, alternative, rock, indie rock, alternative rock, american, \n",
      "Suggestions:\n",
      "-  Stephen Malkmus and the Jicks (seen 6 times)\n",
      "-  Car Seat Headrest (seen 5 times)\n",
      "-  Sparklehorse (seen 5 times)\n",
      "-  Superchunk (seen 5 times)\n",
      "-  Guided by Voices (seen 5 times)\n",
      "-  Frank Black (seen 4 times)\n",
      "-  Buffalo Tom (seen 4 times)\n",
      "-  The Dead Weather (seen 4 times)\n",
      "-  Band of Skulls (seen 4 times)\n",
      "-  Andrew Bird (seen 4 times)\n",
      "\n",
      "\n",
      "\n",
      "For cluster with tags: american, pop, soul, female vocalists, singer-songwriter, jazz, \n",
      "Suggestions:\n",
      "-  Martin Garrix (seen 6 times)\n",
      "-  Selena Gomez & the Scene (seen 5 times)\n",
      "-  Ke$ha (seen 5 times)\n",
      "-  Axwell /\\ Ingrosso (seen 5 times)\n",
      "-  Andy Kohl (seen 5 times)\n",
      "-  Mabelle Jonsson (seen 5 times)\n",
      "-  Bridgit Mendler (seen 4 times)\n",
      "-  Alesso (seen 4 times)\n",
      "-  Sigala (seen 4 times)\n",
      "-  Galantis (seen 4 times)\n",
      "\n",
      "\n",
      "\n",
      "For cluster with tags: classical, composer, instrumental, composers, classic, klassik, \n",
      "Suggestions:\n",
      "-  Anton Bruckner (seen 22 times)\n",
      "-  Georges Bizet (seen 18 times)\n",
      "-  César Franck (seen 13 times)\n",
      "-  Alexander Scriabin (seen 11 times)\n",
      "-  Giacomo Puccini (seen 10 times)\n",
      "-  Luigi Boccherini (seen 9 times)\n",
      "-  Max Bruch (seen 9 times)\n",
      "-  Nikolai Rimsky-Korsakov (seen 9 times)\n",
      "-  Hector Berlioz (seen 8 times)\n",
      "-  Charles Gounod (seen 6 times)\n",
      "\n",
      "\n",
      "\n",
      "For cluster with tags: rock, 80s, british, 70s, classic rock, alternative, \n",
      "Suggestions:\n",
      "-  ABC (seen 9 times)\n",
      "-  Thompson Twins (seen 9 times)\n",
      "-  Chicago (seen 7 times)\n",
      "-  The Fixx (seen 7 times)\n",
      "-  Heaven 17 (seen 7 times)\n",
      "-  Howard Jones (seen 7 times)\n",
      "-  Generation X (seen 7 times)\n",
      "-  Spandau Ballet (seen 7 times)\n",
      "-  Emerson, Lake & Palmer (seen 6 times)\n",
      "-  Toto (seen 6 times)\n",
      "\n",
      "\n",
      "\n",
      "For cluster with tags: psychedelic, indie, rock, indie rock, alternative, experimental, \n",
      "Suggestions:\n",
      "-  The Holydrug Couple (seen 12 times)\n",
      "-  Holy Wave (seen 12 times)\n",
      "-  Mild High Club (seen 11 times)\n",
      "-  Atlas Sound (seen 10 times)\n",
      "-  Panda Bear (seen 10 times)\n",
      "-  Ariel Pink (seen 9 times)\n",
      "-  Psychic Ills (seen 9 times)\n",
      "-  Lotus Plaza (seen 8 times)\n",
      "-  Moses Gunn Collective (seen 6 times)\n",
      "-  Crystal Stilts (seen 6 times)\n",
      "\n",
      "\n",
      "\n"
     ]
    }
   ],
   "source": [
    "for i in range(len(dict_cluster_tags)):\n",
    "    tags_list = dict_cluster_artists[i]\n",
    "    dict_artists_tags = defaultdict(list)\n",
    "    megalist = []\n",
    "    for tag in tags_list:\n",
    "        tag = tag.replace('&', 'and')\n",
    "        url = 'http://ws.audioscrobbler.com/2.0/?method=artist.getsimilar&artist=' + tag + '&api_key=' + API_KEY + '&format=json&limit=30'\n",
    "        r = requests.get(url)\n",
    "        r_json = json.loads(r.content)\n",
    "        similar_artists = r_json['similarartists']['artist']\n",
    "        for a, artist in enumerate(similar_artists):\n",
    "            if artist['name'] not in dict_cluster_artists[i] and artist['name'] not in all_artists:\n",
    "                megalist.append(artist['name'])\n",
    "                dict_artists_tags[tag].append(artist['name'])\n",
    "    c = Counter(megalist).most_common(10)\n",
    "    print('For cluster with tags: ', end='')\n",
    "    for item in dict_cluster_tags[i]: print(item, end=', ')\n",
    "    print('\\nSuggestions:')\n",
    "    for item in c: print('- ', item[0], '(seen', item[1], 'times)')\n",
    "    print('\\n\\n')\n",
    "    "
   ]
  },
  {
   "cell_type": "markdown",
   "metadata": {},
   "source": [
    "_Soundtrack for this first part of the study: [Liam Gallagher - Why Me? Why Not.](https://open.spotify.com/album/6iInyjotj1rYpx3vbX0MxX?si=k5tz1UJ3RfGeEFPk4F_1dA)_\n",
    "\n",
    "![Liam Gallagher](https://imgur.com/uOUASLkt.png)"
   ]
  }
 ],
 "metadata": {
  "kernelspec": {
   "display_name": "Python 3",
   "language": "python",
   "name": "python3"
  },
  "language_info": {
   "codemirror_mode": {
    "name": "ipython",
    "version": 3
   },
   "file_extension": ".py",
   "mimetype": "text/x-python",
   "name": "python",
   "nbconvert_exporter": "python",
   "pygments_lexer": "ipython3",
   "version": "3.6.4"
  }
 },
 "nbformat": 4,
 "nbformat_minor": 2
}
